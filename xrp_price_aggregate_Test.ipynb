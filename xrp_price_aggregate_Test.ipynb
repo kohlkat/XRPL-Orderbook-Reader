{
  "nbformat": 4,
  "nbformat_minor": 0,
  "metadata": {
    "colab": {
      "provenance": [],
      "include_colab_link": true
    },
    "kernelspec": {
      "name": "python3",
      "display_name": "Python 3"
    },
    "language_info": {
      "name": "python"
    }
  },
  "cells": [
    {
      "cell_type": "markdown",
      "metadata": {
        "id": "view-in-github",
        "colab_type": "text"
      },
      "source": [
        "<a href=\"https://colab.research.google.com/github/kohlkat/XRPL-Orderbook-Reader/blob/master/xrp_price_aggregate_Test.ipynb\" target=\"_parent\"><img src=\"https://colab.research.google.com/assets/colab-badge.svg\" alt=\"Open In Colab\"/></a>"
      ]
    },
    {
      "cell_type": "code",
      "metadata": {
        "colab": {
          "base_uri": "https://localhost:8080/"
        },
        "id": "95nnLyPh4SgU",
        "outputId": "5f6d106e-277a-41b9-ad5a-87a6a933d734"
      },
      "source": [
        "!pip install xrp-price-aggregate"
      ],
      "execution_count": null,
      "outputs": [
        {
          "output_type": "stream",
          "text": [
            "Collecting xrp-price-aggregate\n",
            "  Downloading xrp_price_aggregate-0.0.6-py3-none-any.whl (13 kB)\n",
            "Collecting httpx~=0.18.2\n",
            "  Downloading httpx-0.18.2-py3-none-any.whl (76 kB)\n",
            "\u001b[K     |████████████████████████████████| 76 kB 2.7 MB/s \n",
            "\u001b[?25hCollecting ccxt~=1.54.45\n",
            "  Downloading ccxt-1.54.59-py2.py3-none-any.whl (2.0 MB)\n",
            "\u001b[K     |████████████████████████████████| 2.0 MB 25.0 MB/s \n",
            "\u001b[?25hRequirement already satisfied: setuptools>=38.5.1 in /usr/local/lib/python3.7/dist-packages (from ccxt~=1.54.45->xrp-price-aggregate) (57.2.0)\n",
            "Collecting aiohttp<3.8,>=3.7.4\n",
            "  Downloading aiohttp-3.7.4.post0-cp37-cp37m-manylinux2014_x86_64.whl (1.3 MB)\n",
            "\u001b[K     |████████████████████████████████| 1.3 MB 28.3 MB/s \n",
            "\u001b[?25hCollecting yarl==1.6.3\n",
            "  Downloading yarl-1.6.3-cp37-cp37m-manylinux2014_x86_64.whl (294 kB)\n",
            "\u001b[K     |████████████████████████████████| 294 kB 23.7 MB/s \n",
            "\u001b[?25hRequirement already satisfied: certifi>=2018.1.18 in /usr/local/lib/python3.7/dist-packages (from ccxt~=1.54.45->xrp-price-aggregate) (2021.5.30)\n",
            "Collecting aiodns<2.1,>=1.1.1\n",
            "  Downloading aiodns-2.0.0-py2.py3-none-any.whl (4.8 kB)\n",
            "Requirement already satisfied: requests>=2.18.4 in /usr/local/lib/python3.7/dist-packages (from ccxt~=1.54.45->xrp-price-aggregate) (2.23.0)\n",
            "Collecting cryptography>=2.6.1\n",
            "  Downloading cryptography-3.4.7-cp36-abi3-manylinux2014_x86_64.whl (3.2 MB)\n",
            "\u001b[K     |████████████████████████████████| 3.2 MB 33.9 MB/s \n",
            "\u001b[?25hRequirement already satisfied: idna>=2.0 in /usr/local/lib/python3.7/dist-packages (from yarl==1.6.3->ccxt~=1.54.45->xrp-price-aggregate) (2.10)\n",
            "Collecting multidict>=4.0\n",
            "  Downloading multidict-5.1.0-cp37-cp37m-manylinux2014_x86_64.whl (142 kB)\n",
            "\u001b[K     |████████████████████████████████| 142 kB 53.4 MB/s \n",
            "\u001b[?25hRequirement already satisfied: typing-extensions>=3.7.4 in /usr/local/lib/python3.7/dist-packages (from yarl==1.6.3->ccxt~=1.54.45->xrp-price-aggregate) (3.7.4.3)\n",
            "Collecting pycares>=3.0.0\n",
            "  Downloading pycares-4.0.0-cp37-cp37m-manylinux2010_x86_64.whl (291 kB)\n",
            "\u001b[K     |████████████████████████████████| 291 kB 52.9 MB/s \n",
            "\u001b[?25hCollecting async-timeout<4.0,>=3.0\n",
            "  Downloading async_timeout-3.0.1-py3-none-any.whl (8.2 kB)\n",
            "Requirement already satisfied: attrs>=17.3.0 in /usr/local/lib/python3.7/dist-packages (from aiohttp<3.8,>=3.7.4->ccxt~=1.54.45->xrp-price-aggregate) (21.2.0)\n",
            "Requirement already satisfied: chardet<5.0,>=2.0 in /usr/local/lib/python3.7/dist-packages (from aiohttp<3.8,>=3.7.4->ccxt~=1.54.45->xrp-price-aggregate) (3.0.4)\n",
            "Requirement already satisfied: cffi>=1.12 in /usr/local/lib/python3.7/dist-packages (from cryptography>=2.6.1->ccxt~=1.54.45->xrp-price-aggregate) (1.14.6)\n",
            "Requirement already satisfied: pycparser in /usr/local/lib/python3.7/dist-packages (from cffi>=1.12->cryptography>=2.6.1->ccxt~=1.54.45->xrp-price-aggregate) (2.20)\n",
            "Collecting rfc3986[idna2008]<2,>=1.3\n",
            "  Downloading rfc3986-1.5.0-py2.py3-none-any.whl (31 kB)\n",
            "Collecting httpcore<0.14.0,>=0.13.3\n",
            "  Downloading httpcore-0.13.6-py3-none-any.whl (58 kB)\n",
            "\u001b[K     |████████████████████████████████| 58 kB 5.0 MB/s \n",
            "\u001b[?25hCollecting sniffio\n",
            "  Downloading sniffio-1.2.0-py3-none-any.whl (10 kB)\n",
            "Collecting anyio==3.*\n",
            "  Downloading anyio-3.3.0-py3-none-any.whl (77 kB)\n",
            "\u001b[K     |████████████████████████████████| 77 kB 5.9 MB/s \n",
            "\u001b[?25hCollecting h11<0.13,>=0.11\n",
            "  Downloading h11-0.12.0-py3-none-any.whl (54 kB)\n",
            "\u001b[K     |████████████████████████████████| 54 kB 3.2 MB/s \n",
            "\u001b[?25hRequirement already satisfied: urllib3!=1.25.0,!=1.25.1,<1.26,>=1.21.1 in /usr/local/lib/python3.7/dist-packages (from requests>=2.18.4->ccxt~=1.54.45->xrp-price-aggregate) (1.24.3)\n",
            "Installing collected packages: sniffio, multidict, yarl, rfc3986, pycares, h11, async-timeout, anyio, httpcore, cryptography, aiohttp, aiodns, httpx, ccxt, xrp-price-aggregate\n",
            "Successfully installed aiodns-2.0.0 aiohttp-3.7.4.post0 anyio-3.3.0 async-timeout-3.0.1 ccxt-1.54.59 cryptography-3.4.7 h11-0.12.0 httpcore-0.13.6 httpx-0.18.2 multidict-5.1.0 pycares-4.0.0 rfc3986-1.5.0 sniffio-1.2.0 xrp-price-aggregate-0.0.6 yarl-1.6.3\n"
          ],
          "name": "stdout"
        }
      ]
    },
    {
      "cell_type": "code",
      "source": [
        "from xrp_price_aggregate import PriceAggregate\n",
        "\n",
        "pa = PriceAggregate()\n",
        "\n",
        "# Get a list of all the markets that are available\n",
        "markets = pa.get_markets()\n",
        "\n",
        "# Filter the list of markets to only include those with XRP as the base currency\n",
        "xrp_markets = [market for market in markets if market.base_currency == 'XRP']\n",
        "\n",
        "# Get the current price for each market\n",
        "for market in xrp_markets:\n",
        "    market_summary = pa.get_market_summary(market)\n",
        "    print(f'{market.base_currency}/{market.quote_currency} on {market.exchange}: {market_summary.price}')"
      ],
      "metadata": {
        "id": "6Gri0k0ce_Ju",
        "outputId": "2d0c3004-fd67-4e02-b28c-409a6a02aae3",
        "colab": {
          "base_uri": "https://localhost:8080/",
          "height": 387
        }
      },
      "execution_count": 1,
      "outputs": [
        {
          "output_type": "error",
          "ename": "ModuleNotFoundError",
          "evalue": "ignored",
          "traceback": [
            "\u001b[0;31m---------------------------------------------------------------------------\u001b[0m",
            "\u001b[0;31mModuleNotFoundError\u001b[0m                       Traceback (most recent call last)",
            "\u001b[0;32m<ipython-input-1-c0e41c59d171>\u001b[0m in \u001b[0;36m<module>\u001b[0;34m\u001b[0m\n\u001b[0;32m----> 1\u001b[0;31m \u001b[0;32mfrom\u001b[0m \u001b[0mxrp_price_aggregate\u001b[0m \u001b[0;32mimport\u001b[0m \u001b[0mPriceAggregate\u001b[0m\u001b[0;34m\u001b[0m\u001b[0;34m\u001b[0m\u001b[0m\n\u001b[0m\u001b[1;32m      2\u001b[0m \u001b[0;34m\u001b[0m\u001b[0m\n\u001b[1;32m      3\u001b[0m \u001b[0mpa\u001b[0m \u001b[0;34m=\u001b[0m \u001b[0mPriceAggregate\u001b[0m\u001b[0;34m(\u001b[0m\u001b[0;34m)\u001b[0m\u001b[0;34m\u001b[0m\u001b[0;34m\u001b[0m\u001b[0m\n\u001b[1;32m      4\u001b[0m \u001b[0;34m\u001b[0m\u001b[0m\n\u001b[1;32m      5\u001b[0m \u001b[0;31m# Get a list of all the markets that are available\u001b[0m\u001b[0;34m\u001b[0m\u001b[0;34m\u001b[0m\u001b[0;34m\u001b[0m\u001b[0m\n",
            "\u001b[0;31mModuleNotFoundError\u001b[0m: No module named 'xrp_price_aggregate'",
            "",
            "\u001b[0;31m---------------------------------------------------------------------------\u001b[0;32m\nNOTE: If your import is failing due to a missing package, you can\nmanually install dependencies using either !pip or !apt.\n\nTo view examples of installing some common dependencies, click the\n\"Open Examples\" button below.\n\u001b[0;31m---------------------------------------------------------------------------\u001b[0m\n"
          ],
          "errorDetails": {
            "actions": [
              {
                "action": "open_url",
                "actionText": "Open Examples",
                "url": "/notebooks/snippets/importing_libraries.ipynb"
              }
            ]
          }
        }
      ]
    },
    {
      "cell_type": "code",
      "metadata": {
        "id": "28HHArg94eZT"
      },
      "source": [
        "import nest_asyncio\n",
        "import xrp_price_aggregate\n",
        "\n",
        "# this is necessary since Jupyter is occupying the main event loop\n",
        "# we'll patch it so we can have nested loops (usually not permitted)\n",
        "nest_asyncio.apply()"
      ],
      "execution_count": null,
      "outputs": []
    },
    {
      "cell_type": "code",
      "metadata": {
        "colab": {
          "base_uri": "https://localhost:8080/",
          "height": 157
        },
        "id": "3F8SmNT6GSVN",
        "outputId": "cb17dff9-dea2-46cb-df05-3ae9b6f4af06"
      },
      "source": [
        "xrp_price_aggregate.as_json()"
      ],
      "execution_count": null,
      "outputs": [
        {
          "output_type": "execute_result",
          "data": {
            "application/vnd.google.colaboratory.intrinsic+json": {
              "type": "string"
            },
            "text/plain": [
              "'{\"raw_results_named\": {\"ftx\": [\"0.81613\", \"0.81480\"], \"cex\": [\"0.81450\", \"0.81407\"], \"bitstamp\": [\"0.81580\", \"0.81580\", \"0.81067\"], \"kraken\": [\"0.81421\", \"0.81421\"], \"binance\": [\"0.81510\", \"0.81490\"], \"bitfinex\": [\"0.81240\"], \"hitbtc\": [\"0.81282\", \"0.81282\"], \"bitrue\": [\"0.81341\"]}, \"raw_results\": [\"0.81510\", \"0.81240\", \"0.81580\", \"0.81580\", \"0.81067\", \"0.81450\", \"0.81407\", \"0.81613\", \"0.81480\", \"0.81282\", \"0.81282\", \"0.81421\", \"0.81341\", \"0.81490\", \"0.81421\"], \"raw_median\": \"0.81421\", \"raw_stdev\": \"0.00148\", \"filtered_results\": [\"0.81510\", \"0.81450\", \"0.81407\", \"0.81480\", \"0.81282\", \"0.81282\", \"0.81421\", \"0.81341\", \"0.81490\", \"0.81421\"], \"filtered_median\": \"0.81421\", \"filtered_mean\": \"0.81408\"}'"
            ]
          },
          "metadata": {
            "tags": []
          },
          "execution_count": 3
        }
      ]
    },
    {
      "cell_type": "code",
      "metadata": {
        "colab": {
          "base_uri": "https://localhost:8080/",
          "height": 157
        },
        "id": "7GJPBnPBEUXS",
        "outputId": "11eb5285-2c25-4d9a-8d17-4601fefd114c"
      },
      "source": [
        "xrp_price_aggregate.as_json(count=3, delay=0.25, fast=True)"
      ],
      "execution_count": null,
      "outputs": [
        {
          "output_type": "execute_result",
          "data": {
            "application/vnd.google.colaboratory.intrinsic+json": {
              "type": "string"
            },
            "text/plain": [
              "'{\"raw_results_named\": {\"kraken\": [\"0.81461\", \"0.81461\", \"0.81461\"], \"bitstamp\": [\"0.81606\", \"0.81606\", \"0.81606\", \"0.81067\", \"0.81067\", \"0.81067\"], \"binance\": [\"0.81570\", \"0.81540\", \"0.81540\"], \"bitrue\": [\"0.81485\", \"0.81494\", \"0.81494\"], \"hitbtc\": [\"0.81282\", \"0.81282\", \"0.81282\"]}, \"raw_results\": [\"0.81606\", \"0.81606\", \"0.81606\", \"0.81067\", \"0.81067\", \"0.81067\", \"0.81282\", \"0.81282\", \"0.81282\", \"0.81485\", \"0.81494\", \"0.81494\", \"0.81570\", \"0.81540\", \"0.81540\", \"0.81461\", \"0.81461\", \"0.81461\"], \"raw_median\": \"0.81473\", \"raw_stdev\": \"0.00189\", \"filtered_results\": [\"0.81606\", \"0.81606\", \"0.81606\", \"0.81485\", \"0.81494\", \"0.81494\", \"0.81570\", \"0.81540\", \"0.81540\", \"0.81461\", \"0.81461\", \"0.81461\"], \"filtered_median\": \"0.81517\", \"filtered_mean\": \"0.81527\"}'"
            ]
          },
          "metadata": {
            "tags": []
          },
          "execution_count": 4
        }
      ]
    }
  ]
}